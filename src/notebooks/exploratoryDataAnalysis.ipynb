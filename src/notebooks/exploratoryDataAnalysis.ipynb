{
 "cells": [
  {
   "cell_type": "code",
   "execution_count": 3,
   "id": "cc5b2ca1",
   "metadata": {},
   "outputs": [],
   "source": [
    "import sys\n",
    "import os\n",
    "import pandas as pd\n",
    "import polars as pl\n",
    "import numpy as np\n",
    "import matplotlib.pyplot as plt\n",
    "import seaborn as sns\n",
    "import glob\n",
    "import json\n",
    "\n",
    "project_root = os.path.abspath(os.path.join(os.getcwd(), '..', '..'))\n",
    "if project_root not in sys.path:\n",
    "    sys.path.insert(0, project_root)"
   ]
  },
  {
   "cell_type": "code",
   "execution_count": 4,
   "id": "c82ad01c",
   "metadata": {},
   "outputs": [
    {
     "name": "stdout",
     "output_type": "stream",
     "text": [
      "['AAPL', 'CSCO', 'NFLX', 'NVDA', 'TSLA']\n",
      "Ticker: AAPL, Average Update difference: 0.016324748125661145\n",
      "Ticker: CSCO, Average Update difference: 0.04036218581027897\n",
      "Ticker: NFLX, Average Update difference: 0.28448296189298344\n",
      "Ticker: NVDA, Average Update difference: 0.008002265498323332\n",
      "Ticker: TSLA, Average Update difference: 0.09110526379624949\n"
     ]
    }
   ],
   "source": [
    "# average volume, top 10 levels\n",
    "processed_dir = os.path.join(project_root, 'data', 'processed')\n",
    "tickers = [name for name in os.listdir(processed_dir) if os.path.isdir(os.path.join(processed_dir, name))]\n",
    "print(tickers)\n",
    "time_col = 0\n",
    "\n",
    "avg_diffs = {}\n",
    "for ticker in tickers:\n",
    "    ob_dir = os.path.join(processed_dir, ticker, 'orderbooks', 'scaled')\n",
    "    if os.path.isdir(ob_dir):\n",
    "        csv_files = [f for f in os.listdir(ob_dir) if f.endswith('.csv')]\n",
    "        if csv_files:\n",
    "            first_csv = sorted(csv_files)[0]\n",
    "            csv_path = os.path.join(ob_dir, first_csv)\n",
    "            df_ob = pl.read_csv(csv_path).to_pandas()\n",
    "            # Compute the average difference between consecutive values in column 1\n",
    "            col1 = df_ob.iloc[:, time_col]\n",
    "            avg_diff = col1.diff().abs().mean()\n",
    "            print(f\"Ticker: {ticker}, Average Update difference: {avg_diff}\")\n",
    "            avg_diffs[ticker] = avg_diff\n",
    "        else:\n",
    "            print(f\"No CSV files found in {ob_dir}\")\n",
    "    else:\n",
    "        print(f\"Directory does not exist: {ob_dir}\")\n",
    "    "
   ]
  }
 ],
 "metadata": {
  "kernelspec": {
   "display_name": "deep-lob-project (3.12.1)",
   "language": "python",
   "name": "python3"
  },
  "language_info": {
   "codemirror_mode": {
    "name": "ipython",
    "version": 3
   },
   "file_extension": ".py",
   "mimetype": "text/x-python",
   "name": "python",
   "nbconvert_exporter": "python",
   "pygments_lexer": "ipython3",
   "version": "3.12.1"
  }
 },
 "nbformat": 4,
 "nbformat_minor": 5
}
