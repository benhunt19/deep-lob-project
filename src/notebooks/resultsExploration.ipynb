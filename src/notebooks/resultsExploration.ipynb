{
 "cells": [
  {
   "cell_type": "code",
   "execution_count": null,
   "id": "1efdbb31",
   "metadata": {},
   "outputs": [],
   "source": [
    "import sys\n",
    "import os\n",
    "import pandas as pd\n",
    "\n",
    "project_root = os.path.dirname(os.path.abspath(os.getcwd()))\n",
    "if project_root not in sys.path:\n",
    "    sys.path.insert(0, project_root)\n",
    "    \n",
    "from src.data_processing.resultMetaUtils import frameFromResultMeta"
   ]
  },
  {
   "cell_type": "code",
   "execution_count": 19,
   "id": "7d554412",
   "metadata": {},
   "outputs": [
    {
     "data": {
      "text/plain": [
       "<bound method NDFrame.head of      run_id  accuracy  ... meta.batchSize meta.scaling\n",
       "0  WHZnBvTh   0.33945  ...             64         True\n",
       "1  ZQsn4iOX   0.44825  ...             64         True\n",
       "\n",
       "[2 rows x 15 columns]>"
      ]
     },
     "metadata": {},
     "output_type": "display_data"
    }
   ],
   "source": [
    "df = frameFromResultMeta()\n",
    "display(df.head)"
   ]
  }
 ],
 "metadata": {
  "kernelspec": {
   "display_name": "deep-lob-project",
   "language": "python",
   "name": "python3"
  },
  "language_info": {
   "codemirror_mode": {
    "name": "ipython",
    "version": 3
   },
   "file_extension": ".py",
   "mimetype": "text/x-python",
   "name": "python",
   "nbconvert_exporter": "python",
   "pygments_lexer": "ipython3",
   "version": "3.12.1"
  }
 },
 "nbformat": 4,
 "nbformat_minor": 5
}
