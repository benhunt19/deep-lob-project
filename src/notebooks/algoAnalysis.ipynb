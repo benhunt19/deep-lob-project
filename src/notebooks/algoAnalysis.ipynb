{
 "cells": [
  {
   "cell_type": "code",
   "execution_count": 17,
   "id": "ee6d3369",
   "metadata": {},
   "outputs": [
    {
     "name": "stdout",
     "output_type": "stream",
     "text": [
      "c:\\Users\\benhu\\UCL\\Term 3\\HSBC\\deep-lob-project\n"
     ]
    }
   ],
   "source": [
    "import sys\n",
    "import os\n",
    "import pandas as pd\n",
    "import polars as pl\n",
    "import numpy as np\n",
    "import matplotlib.pyplot as plt\n",
    "import seaborn as sns\n",
    "import glob\n",
    "import json\n",
    "import joblib\n",
    "from pprint import pprint\n",
    "current_path = os.getcwd()\n",
    "project_root = os.path.abspath(os.path.join(current_path, os.pardir, os.pardir))\n",
    "print(project_root)\n",
    "if project_root not in sys.path:\n",
    "    sys.path.insert(0, project_root)"
   ]
  },
  {
   "cell_type": "code",
   "execution_count": 21,
   "id": "7a23ddac",
   "metadata": {},
   "outputs": [
    {
     "name": "stdout",
     "output_type": "stream",
     "text": [
      "{'directions': array([0., 0., 0., ..., 0., 0., 1.]),\n",
      " 'lower_thresh': -0.18408013880252838,\n",
      " 'meta': {'date': '2025-06-05',\n",
      "          'horizon': 20,\n",
      "          'modelClass': <class 'src.algo.algoModels.deepLOB.DeepLOB'>,\n",
      "          'plot': True,\n",
      "          'representation': 'orderflows',\n",
      "          'rowLim': 10000,\n",
      "          'saveResults': True,\n",
      "          'signalPercentage': 15,\n",
      "          'ticker': 'AAPL',\n",
      "          'verbose': False,\n",
      "          'windowLength': 100},\n",
      " 'pnl': array([0.   , 0.   , 0.   , ..., 0.065, 0.065, 0.065]),\n",
      " 'predictions': array([0.39599341, 0.23789294, 0.33941114, ..., 0.29923248, 0.23469584,\n",
      "       0.43407077]),\n",
      " 'upper_thresh': 0.432226076722145}\n"
     ]
    }
   ],
   "source": [
    "loaded = joblib.load(r\"C:\\Users\\benhu\\UCL\\Term 3\\HSBC\\deep-lob-project\\results\\algo\\AAPL\\2025-06-05\\20\\15\\DeepLOB\\data_uQD6pqDxul.joblib\")\n",
    "pprint(loaded)"
   ]
  }
 ],
 "metadata": {
  "kernelspec": {
   "display_name": "deep-lob-project (3.12.1)",
   "language": "python",
   "name": "python3"
  },
  "language_info": {
   "codemirror_mode": {
    "name": "ipython",
    "version": 3
   },
   "file_extension": ".py",
   "mimetype": "text/x-python",
   "name": "python",
   "nbconvert_exporter": "python",
   "pygments_lexer": "ipython3",
   "version": "3.12.1"
  }
 },
 "nbformat": 4,
 "nbformat_minor": 5
}
