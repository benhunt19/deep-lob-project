{
 "cells": [
  {
   "cell_type": "code",
   "execution_count": 1,
   "id": "ee6d3369",
   "metadata": {},
   "outputs": [
    {
     "name": "stdout",
     "output_type": "stream",
     "text": [
      "/cs/student/projects3/cf/2024/benjhunt/deep-lob-project\n"
     ]
    }
   ],
   "source": [
    "import sys\n",
    "import os\n",
    "import pandas as pd\n",
    "import polars as pl\n",
    "import numpy as np\n",
    "import matplotlib.pyplot as plt\n",
    "import seaborn as sns\n",
    "import glob\n",
    "import json\n",
    "import joblib\n",
    "from pprint import pprint\n",
    "current_path = os.getcwd()\n",
    "project_root = os.path.abspath(os.path.join(current_path, os.pardir, os.pardir))\n",
    "print(project_root)\n",
    "if project_root not in sys.path:\n",
    "    sys.path.insert(0, project_root)"
   ]
  },
  {
   "cell_type": "code",
   "execution_count": 2,
   "id": "7a23ddac",
   "metadata": {},
   "outputs": [
    {
     "name": "stderr",
     "output_type": "stream",
     "text": [
      "2025-09-06 02:47:48.095164: E external/local_xla/xla/stream_executor/cuda/cuda_fft.cc:467] Unable to register cuFFT factory: Attempting to register factory for plugin cuFFT when one has already been registered\n",
      "WARNING: All log messages before absl::InitializeLog() is called are written to STDERR\n",
      "E0000 00:00:1757123268.116207 2504371 cuda_dnn.cc:8579] Unable to register cuDNN factory: Attempting to register factory for plugin cuDNN when one has already been registered\n",
      "E0000 00:00:1757123268.122141 2504371 cuda_blas.cc:1407] Unable to register cuBLAS factory: Attempting to register factory for plugin cuBLAS when one has already been registered\n",
      "W0000 00:00:1757123268.137733 2504371 computation_placer.cc:177] computation placer already registered. Please check linkage and avoid linking the same target more than once.\n",
      "W0000 00:00:1757123268.137762 2504371 computation_placer.cc:177] computation placer already registered. Please check linkage and avoid linking the same target more than once.\n",
      "W0000 00:00:1757123268.137765 2504371 computation_placer.cc:177] computation placer already registered. Please check linkage and avoid linking the same target more than once.\n",
      "W0000 00:00:1757123268.137767 2504371 computation_placer.cc:177] computation placer already registered. Please check linkage and avoid linking the same target more than once.\n",
      "2025-09-06 02:47:48.143197: I tensorflow/core/platform/cpu_feature_guard.cc:210] This TensorFlow binary is optimized to use available CPU instructions in performance-critical operations.\n",
      "To enable the following instructions: AVX2 AVX512F AVX512_VNNI FMA, in other operations, rebuild TensorFlow with the appropriate compiler flags.\n",
      "2025-09-06 02:47:57.397480: E external/local_xla/xla/stream_executor/cuda/cuda_platform.cc:51] failed call to cuInit: INTERNAL: CUDA error: Failed call to cuInit: UNKNOWN ERROR (303)\n"
     ]
    },
    {
     "name": "stdout",
     "output_type": "stream",
     "text": [
      "{'directions': array([ 0.,  0.,  0., ..., -1., -1., -1.]),\n",
      " 'lower_thresh': -0.6385449051856995,\n",
      " 'meta': {'date': '2025-06-04',\n",
      "          'horizon': 20,\n",
      "          'modelClass': <class 'src.algo.algoModels.deepLOB.DeepLOB'>,\n",
      "          'plot': False,\n",
      "          'representation': 'orderflows',\n",
      "          'rowLim': None,\n",
      "          'saveResults': True,\n",
      "          'signalPercentage': 5,\n",
      "          'ticker': 'AAPL',\n",
      "          'verbose': False,\n",
      "          'windowLength': 100},\n",
      " 'pnl': array([ 0.  ,  0.  ,  0.  , ..., 77.57, 77.57, 77.57]),\n",
      " 'predictions': array([ 0.        ,  0.        ,  0.        , ..., -0.18356332,\n",
      "        0.06537388, -0.17509058]),\n",
      " 'upper_thresh': 0.6439694613218305}\n"
     ]
    }
   ],
   "source": [
    "loaded = joblib.load(r\"/cs/student/projects3/cf/2024/benjhunt/deep-lob-project/results/algo/AAPL/2025-06-04/20/5/DeepLOB/data_ZSjujOYBfm.joblib\")\n",
    "pprint(loaded)"
   ]
  },
  {
   "cell_type": "code",
   "execution_count": 13,
   "id": "41a99056",
   "metadata": {},
   "outputs": [
    {
     "data": {
      "image/png": "[encoded data removed]",
      "text/plain": [
       "<Figure size 640x480 with 1 Axes>"
      ]
     },
     "metadata": {},
     "output_type": "display_data"
    }
   ],
   "source": [
    "pnl = loaded['pnl']\n",
    "plt.plot(pnl)\n",
    "plt.show()"
   ]
  },
  {
   "cell_type": "code",
   "execution_count": 14,
   "id": "23ad92b3",
   "metadata": {},
   "outputs": [
    {
     "name": "stdout",
     "output_type": "stream",
     "text": [
      "13788\n",
      "4168\n"
     ]
    }
   ],
   "source": [
    "diff = np.diff(pnl, n=1)\n",
    "greater_than = np.sum(diff > 0)\n",
    "less_than = np.sum(diff < 0)\n",
    "print(greater_than)\n",
    "print(less_than)"
   ]
  }
 ],
 "metadata": {
  "kernelspec": {
   "display_name": "venv",
   "language": "python",
   "name": "python3"
  },
  "language_info": {
   "codemirror_mode": {
    "name": "ipython",
    "version": 3
   },
   "file_extension": ".py",
   "mimetype": "text/x-python",
   "name": "python",
   "nbconvert_exporter": "python",
   "pygments_lexer": "ipython3",
   "version": "3.9.21"
  }
 },
 "nbformat": 4,
 "nbformat_minor": 5
}
