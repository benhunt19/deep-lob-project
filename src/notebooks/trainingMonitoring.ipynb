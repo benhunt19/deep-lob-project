{
 "cells": [
  {
   "cell_type": "code",
   "execution_count": 47,
   "id": "b397066e",
   "metadata": {},
   "outputs": [
    {
     "name": "stdout",
     "output_type": "stream",
     "text": [
      "/cs/student/projects3/cf/2024/benjhunt/deep-lob-project\n"
     ]
    }
   ],
   "source": [
    "import sys\n",
    "import os\n",
    "import pandas as pd\n",
    "import polars as pl\n",
    "import numpy as np\n",
    "import matplotlib.pyplot as plt\n",
    "import seaborn as sns\n",
    "import glob\n",
    "import json\n",
    "\n",
    "# go up one additional level from the current working directory\n",
    "project_root = os.path.dirname(os.path.dirname(os.path.abspath(os.getcwd())))\n",
    "if project_root not in sys.path:\n",
    "    sys.path.insert(0, project_root)\n",
    "print(project_root)"
   ]
  },
  {
   "cell_type": "code",
   "execution_count": 48,
   "id": "e85a3ef0",
   "metadata": {},
   "outputs": [
    {
     "name": "stdout",
     "output_type": "stream",
     "text": [
      "(546, 54)\n"
     ]
    }
   ],
   "source": [
    "# Constants\n",
    "data_location = fr\"{project_root}/results/2025-08-26\"\n",
    "folders = [name for name in os.listdir(data_location)]\n",
    "# Go one level deeper and get every pair of (folder, subfolder)\n",
    "folder_pairs = []\n",
    "for folder in folders:\n",
    "    folder_path = os.path.join(data_location, folder)\n",
    "    if os.path.isdir(folder_path):\n",
    "        subfolders = [name for name in os.listdir(folder_path) if os.path.isdir(os.path.join(folder_path, name))]\n",
    "        for subfolder in subfolders:\n",
    "            folder_pairs.append((folder, subfolder))\n",
    "\n",
    "json_files = [\n",
    "    {'Representation': representation, 'Ticker': ticker, 'File': f}\n",
    "    for representation, ticker in folder_pairs\n",
    "    for f in glob.glob(os.path.join(data_location, representation, ticker, \"*.json\"))\n",
    "]\n",
    "\n",
    "# Load and flatten all JSON files into a single list of records\n",
    "def flatten_record(entry):\n",
    "    with open(entry['File'], 'r') as file:\n",
    "        data = json.load(file)\n",
    "        records = data if isinstance(data, list) else [data]\n",
    "        for record in records:\n",
    "            record.update({'Representation': entry['Representation'], 'Ticker': entry['Ticker']})\n",
    "            # Flatten nested dicts\n",
    "            for key in ['meta', 'metrics', 'metricsStrength']:\n",
    "                if key in record and isinstance(record[key], dict):\n",
    "                    for k, v in record[key].items():\n",
    "                        record[f\"{key}.{k}\"] = v\n",
    "            yield record\n",
    "\n",
    "all_data = [rec for entry in json_files for rec in flatten_record(entry)]\n",
    "\n",
    "joined_df = pd.DataFrame(all_data)\n",
    "# Reorder columns so that 'Representation' and 'Ticker' are first\n",
    "cols = ['Representation', 'Ticker'] + [col for col in joined_df.columns if col not in ['Representation', 'Ticker']]\n",
    "joined_df = joined_df[cols]\n",
    "data = joined_df.copy()\n",
    "print(data.shape)\n",
    "# data"
   ]
  },
  {
   "cell_type": "code",
   "execution_count": 49,
   "id": "2329aebe",
   "metadata": {},
   "outputs": [
    {
     "data": {
      "text/plain": [
       "Representation  Ticker  meta.labelType\n",
       "orderbooks      AAPL    CATEGORICAL       10,20,40,60,80,100,200\n",
       "                        REGRESSION        10,20,40,60,80,100,200\n",
       "                BAC     CATEGORICAL       10,20,40,60,80,100,200\n",
       "                        REGRESSION        10,20,40,60,80,100,200\n",
       "                GOOG    CATEGORICAL       10,20,40,60,80,100,200\n",
       "                        REGRESSION        10,20,40,60,80,100,200\n",
       "                JPM     CATEGORICAL       10,20,40,60,80,100,200\n",
       "                        REGRESSION        10,20,40,60,80,100,200\n",
       "                META    CATEGORICAL       10,20,40,60,80,100,200\n",
       "                        REGRESSION        10,20,40,60,80,100,200\n",
       "                MSFT    CATEGORICAL       10,20,40,60,80,100,200\n",
       "                        REGRESSION        10,20,40,60,80,100,200\n",
       "                MTCH    CATEGORICAL       10,20,40,60,80,100,200\n",
       "                        REGRESSION        10,20,40,60,80,100,200\n",
       "                NFLX    CATEGORICAL       10,20,40,60,80,100,200\n",
       "                        REGRESSION        10,20,40,60,80,100,200\n",
       "                NVDA    CATEGORICAL       10,20,40,60,80,100,200\n",
       "                        REGRESSION        10,20,40,60,80,100,200\n",
       "                ORCL    CATEGORICAL       10,20,40,60,80,100,200\n",
       "                        REGRESSION        10,20,40,60,80,100,200\n",
       "                PLTR    CATEGORICAL       10,20,40,60,80,100,200\n",
       "                        REGRESSION        10,20,40,60,80,100,200\n",
       "                TSLA    CATEGORICAL       10,20,40,60,80,100,200\n",
       "                        REGRESSION            10,20,40,60,80,100\n",
       "orderfixedvol   AAPL    CATEGORICAL       10,20,40,60,80,100,200\n",
       "                        REGRESSION        10,20,40,60,80,100,200\n",
       "                BAC     CATEGORICAL       10,20,40,60,80,100,200\n",
       "                        REGRESSION        10,20,40,60,80,100,200\n",
       "                GOOG    CATEGORICAL       10,20,40,60,80,100,200\n",
       "                        REGRESSION        10,20,40,60,80,100,200\n",
       "                JPM     CATEGORICAL       10,20,40,60,80,100,200\n",
       "                        REGRESSION        10,20,40,60,80,100,200\n",
       "                META    CATEGORICAL       10,20,40,60,80,100,200\n",
       "                        REGRESSION        10,20,40,60,80,100,200\n",
       "                MSFT    CATEGORICAL       10,20,40,60,80,100,200\n",
       "                        REGRESSION           20,40,60,80,100,200\n",
       "                MTCH    CATEGORICAL       10,20,40,60,80,100,200\n",
       "                        REGRESSION           20,40,60,80,100,200\n",
       "                NFLX    CATEGORICAL       10,20,40,60,80,100,200\n",
       "                        REGRESSION           20,40,60,80,100,200\n",
       "                NVDA    CATEGORICAL       10,20,40,60,80,100,200\n",
       "                        REGRESSION           20,40,60,80,100,200\n",
       "                ORCL    CATEGORICAL       10,20,40,60,80,100,200\n",
       "                        REGRESSION           20,40,60,80,100,200\n",
       "                PLTR    CATEGORICAL       10,20,40,60,80,100,200\n",
       "                        REGRESSION        10,20,40,60,80,100,200\n",
       "                TSLA    CATEGORICAL       10,20,40,60,80,100,200\n",
       "                        REGRESSION           20,40,60,80,100,200\n",
       "orderflows      AAPL    CATEGORICAL       10,20,40,60,80,100,200\n",
       "                        REGRESSION        10,20,40,60,80,100,200\n",
       "                GOOG    CATEGORICAL       10,20,40,60,80,100,200\n",
       "                        REGRESSION        10,20,40,60,80,100,200\n",
       "                META    CATEGORICAL       10,20,40,60,80,100,200\n",
       "                        REGRESSION        10,20,40,60,80,100,200\n",
       "                MSFT    CATEGORICAL       10,20,40,60,80,100,200\n",
       "                        REGRESSION        10,20,40,60,80,100,200\n",
       "                MTCH    CATEGORICAL           10,20,40,60,80,100\n",
       "                NFLX    CATEGORICAL       10,20,40,60,80,100,200\n",
       "                PLTR    CATEGORICAL               10,20,40,60,80\n",
       "                        REGRESSION        10,20,40,60,80,100,200\n",
       "                TSLA    CATEGORICAL       10,20,40,60,80,100,200\n",
       "                        REGRESSION            10,20,40,60,80,100\n",
       "ordervol        AAPL    CATEGORICAL       10,20,40,60,80,100,200\n",
       "                        REGRESSION        10,20,40,60,80,100,200\n",
       "                BAC     CATEGORICAL       10,20,40,60,80,100,200\n",
       "                GOOG    CATEGORICAL       10,20,40,60,80,100,200\n",
       "                        REGRESSION        10,20,40,60,80,100,200\n",
       "                JPM     CATEGORICAL       10,20,40,60,80,100,200\n",
       "                META    CATEGORICAL       10,20,40,60,80,100,200\n",
       "                        REGRESSION        10,20,40,60,80,100,200\n",
       "                MSFT    CATEGORICAL       10,20,40,60,80,100,200\n",
       "                        REGRESSION        10,20,40,60,80,100,200\n",
       "                MTCH    CATEGORICAL       10,20,40,60,80,100,200\n",
       "                NFLX    CATEGORICAL       10,20,40,60,80,100,200\n",
       "                NVDA    CATEGORICAL       10,20,40,60,80,100,200\n",
       "                ORCL    CATEGORICAL       10,20,40,60,80,100,200\n",
       "                PLTR    CATEGORICAL       10,20,40,60,80,100,200\n",
       "                        REGRESSION        10,20,40,60,80,100,200\n",
       "                TSLA    CATEGORICAL       10,20,40,60,80,100,200\n",
       "                        REGRESSION                   10,20,40,60\n",
       "Name: meta.lookForwardHorizon, dtype: object"
      ]
     },
     "metadata": {},
     "output_type": "display_data"
    }
   ],
   "source": [
    "# show full DataFrame and full Series output\n",
    "pd.set_option('display.max_rows', None)\n",
    "pd.set_option('display.max_columns', None)\n",
    "pd.set_option('display.width', None)\n",
    "pd.set_option('display.max_colwidth', None)\n",
    "\n",
    "grouped = data.groupby(['Representation', 'Ticker', 'meta.labelType'])['meta.lookForwardHorizon'].agg(lambda x: ','.join(map(str, sorted(x))))\n",
    "\n",
    "display(grouped)"
   ]
  }
 ],
 "metadata": {
  "kernelspec": {
   "display_name": "venv",
   "language": "python",
   "name": "python3"
  },
  "language_info": {
   "codemirror_mode": {
    "name": "ipython",
    "version": 3
   },
   "file_extension": ".py",
   "mimetype": "text/x-python",
   "name": "python",
   "nbconvert_exporter": "python",
   "pygments_lexer": "ipython3",
   "version": "3.9.21"
  }
 },
 "nbformat": 4,
 "nbformat_minor": 5
}
